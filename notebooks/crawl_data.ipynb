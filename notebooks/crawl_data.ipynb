{
 "metadata": {
  "name": ""
 },
 "nbformat": 3,
 "nbformat_minor": 0,
 "worksheets": [
  {
   "cells": [
    {
     "cell_type": "code",
     "collapsed": false,
     "input": [
      "import os\n",
      "f = open('unimelb-report-1-metadata.txt', encoding='latin-1')"
     ],
     "language": "python",
     "metadata": {},
     "outputs": [],
     "prompt_number": 23
    },
    {
     "cell_type": "code",
     "collapsed": false,
     "input": [
      "block = {}\n",
      "\n",
      "def process_line(line):\n",
      "    if '[' in line:\n",
      "        url = line.split('] ')[1][:-1]\n",
      "        if '.au' in url:\n",
      "            block['hostname'] = url.split('.au')[0]\n",
      "            block['uri'] = url.split('.au')[1]\n",
      "        elif '.edu/' in url:\n",
      "            block['hostname'] = url.split('.edu')[0]\n",
      "            block['uri'] = url.split('.edu')[1]\n",
      "        if len(block) == 2:\n",
      "            print(block)"
     ],
     "language": "python",
     "metadata": {},
     "outputs": [],
     "prompt_number": 24
    },
    {
     "cell_type": "code",
     "collapsed": false,
     "input": [
      "i = 100\n",
      "while i > 0:\n",
      "    line = f.readline()\n",
      "    process_line(line)\n",
      "    i -= 1"
     ],
     "language": "python",
     "metadata": {},
     "outputs": [
      {
       "output_type": "stream",
       "stream": "stdout",
       "text": [
        "{'uri': '/printers/', 'hostname': '000s-uniprint.unicard.unimelb.edu'}\n",
        "{'uri': '/printers/header.htm', 'hostname': '000s-uniprint.unicard.unimelb.edu'}\n",
        "{'uri': '/printers/index.htm', 'hostname': '000s-uniprint.unicard.unimelb.edu'}\n",
        "{'uri': '/printers/ipp_0001.asp', 'hostname': '000s-uniprint.unicard.unimelb.edu'}\n",
        "{'uri': '/printers/ipp_0001.asp?startid=1&endid=11', 'hostname': '000s-uniprint.unicard.unimelb.edu'}\n",
        "{'uri': '/printers/ipp_0001.asp?startid=1&endid=99', 'hostname': '000s-uniprint.unicard.unimelb.edu'}\n",
        "{'uri': '/printers/ipp_0001.asp?startid=11&endid=21', 'hostname': '000s-uniprint.unicard.unimelb.edu'}\n",
        "{'uri': '/printers/ipp_0001.asp?startid=21&endid=31', 'hostname': '000s-uniprint.unicard.unimelb.edu'}\n"
       ]
      }
     ],
     "prompt_number": 25
    },
    {
     "cell_type": "code",
     "collapsed": false,
     "input": [
      "block"
     ],
     "language": "python",
     "metadata": {},
     "outputs": [
      {
       "metadata": {},
       "output_type": "pyout",
       "prompt_number": 26,
       "text": [
        "{'hostname': '000s-uniprint.unicard.unimelb.edu',\n",
        " 'uri': '/printers/ipp_0001.asp?startid=21&endid=31'}"
       ]
      }
     ],
     "prompt_number": 26
    },
    {
     "cell_type": "code",
     "collapsed": false,
     "input": [],
     "language": "python",
     "metadata": {},
     "outputs": []
    }
   ],
   "metadata": {}
  }
 ]
}