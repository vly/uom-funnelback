{
 "metadata": {
  "name": ""
 },
 "nbformat": 3,
 "nbformat_minor": 0,
 "worksheets": [
  {
   "cells": [
    {
     "cell_type": "code",
     "collapsed": false,
     "input": [
      "import requests"
     ],
     "language": "python",
     "metadata": {},
     "outputs": [],
     "prompt_number": 1
    },
    {
     "cell_type": "code",
     "collapsed": false,
     "input": [
      "a = requests.get('https://thmprod.themis.unimelb.edu.au/OA_HTML_MOD/popupblockertest.html')\n",
      "a.content"
     ],
     "language": "python",
     "metadata": {},
     "outputs": [
      {
       "ename": "ConnectionError",
       "evalue": "HTTPSConnectionPool(host='thmprod.themis.unimelb.edu.au', port=443): Max retries exceeded with url: / (Caused by <class 'ConnectionResetError'>: [WinError 10054] An existing connection was forcibly closed by the remote host)",
       "output_type": "pyerr",
       "traceback": [
        "\u001b[1;31m---------------------------------------------------------------------------\u001b[0m\n\u001b[1;31mConnectionError\u001b[0m                           Traceback (most recent call last)",
        "\u001b[1;32m<ipython-input-15-12e5b4a4326a>\u001b[0m in \u001b[0;36m<module>\u001b[1;34m()\u001b[0m\n\u001b[1;32m----> 1\u001b[1;33m \u001b[0ma\u001b[0m \u001b[1;33m=\u001b[0m \u001b[0mrequests\u001b[0m\u001b[1;33m.\u001b[0m\u001b[0mget\u001b[0m\u001b[1;33m(\u001b[0m\u001b[1;34m'https://thmprod.themis.unimelb.edu.au/'\u001b[0m\u001b[1;33m)\u001b[0m\u001b[1;33m\u001b[0m\u001b[0m\n\u001b[0m\u001b[0;32m      2\u001b[0m \u001b[0ma\u001b[0m\u001b[1;33m.\u001b[0m\u001b[0mcontent\u001b[0m\u001b[1;33m\u001b[0m\u001b[0m\n",
        "\u001b[1;32mC:\\Python33\\lib\\site-packages\\requests\\api.py\u001b[0m in \u001b[0;36mget\u001b[1;34m(url, **kwargs)\u001b[0m\n\u001b[0;32m     53\u001b[0m \u001b[1;33m\u001b[0m\u001b[0m\n\u001b[0;32m     54\u001b[0m     \u001b[0mkwargs\u001b[0m\u001b[1;33m.\u001b[0m\u001b[0msetdefault\u001b[0m\u001b[1;33m(\u001b[0m\u001b[1;34m'allow_redirects'\u001b[0m\u001b[1;33m,\u001b[0m \u001b[1;32mTrue\u001b[0m\u001b[1;33m)\u001b[0m\u001b[1;33m\u001b[0m\u001b[0m\n\u001b[1;32m---> 55\u001b[1;33m     \u001b[1;32mreturn\u001b[0m \u001b[0mrequest\u001b[0m\u001b[1;33m(\u001b[0m\u001b[1;34m'get'\u001b[0m\u001b[1;33m,\u001b[0m \u001b[0murl\u001b[0m\u001b[1;33m,\u001b[0m \u001b[1;33m**\u001b[0m\u001b[0mkwargs\u001b[0m\u001b[1;33m)\u001b[0m\u001b[1;33m\u001b[0m\u001b[0m\n\u001b[0m\u001b[0;32m     56\u001b[0m \u001b[1;33m\u001b[0m\u001b[0m\n\u001b[0;32m     57\u001b[0m \u001b[1;33m\u001b[0m\u001b[0m\n",
        "\u001b[1;32mC:\\Python33\\lib\\site-packages\\requests\\api.py\u001b[0m in \u001b[0;36mrequest\u001b[1;34m(method, url, **kwargs)\u001b[0m\n\u001b[0;32m     42\u001b[0m \u001b[1;33m\u001b[0m\u001b[0m\n\u001b[0;32m     43\u001b[0m     \u001b[0msession\u001b[0m \u001b[1;33m=\u001b[0m \u001b[0msessions\u001b[0m\u001b[1;33m.\u001b[0m\u001b[0mSession\u001b[0m\u001b[1;33m(\u001b[0m\u001b[1;33m)\u001b[0m\u001b[1;33m\u001b[0m\u001b[0m\n\u001b[1;32m---> 44\u001b[1;33m     \u001b[1;32mreturn\u001b[0m \u001b[0msession\u001b[0m\u001b[1;33m.\u001b[0m\u001b[0mrequest\u001b[0m\u001b[1;33m(\u001b[0m\u001b[0mmethod\u001b[0m\u001b[1;33m=\u001b[0m\u001b[0mmethod\u001b[0m\u001b[1;33m,\u001b[0m \u001b[0murl\u001b[0m\u001b[1;33m=\u001b[0m\u001b[0murl\u001b[0m\u001b[1;33m,\u001b[0m \u001b[1;33m**\u001b[0m\u001b[0mkwargs\u001b[0m\u001b[1;33m)\u001b[0m\u001b[1;33m\u001b[0m\u001b[0m\n\u001b[0m\u001b[0;32m     45\u001b[0m \u001b[1;33m\u001b[0m\u001b[0m\n\u001b[0;32m     46\u001b[0m \u001b[1;33m\u001b[0m\u001b[0m\n",
        "\u001b[1;32mC:\\Python33\\lib\\site-packages\\requests\\sessions.py\u001b[0m in \u001b[0;36mrequest\u001b[1;34m(self, method, url, params, data, headers, cookies, files, auth, timeout, allow_redirects, proxies, hooks, stream, verify, cert)\u001b[0m\n\u001b[0;32m    355\u001b[0m             \u001b[1;34m'allow_redirects'\u001b[0m\u001b[1;33m:\u001b[0m \u001b[0mallow_redirects\u001b[0m\u001b[1;33m,\u001b[0m\u001b[1;33m\u001b[0m\u001b[0m\n\u001b[0;32m    356\u001b[0m         }\n\u001b[1;32m--> 357\u001b[1;33m         \u001b[0mresp\u001b[0m \u001b[1;33m=\u001b[0m \u001b[0mself\u001b[0m\u001b[1;33m.\u001b[0m\u001b[0msend\u001b[0m\u001b[1;33m(\u001b[0m\u001b[0mprep\u001b[0m\u001b[1;33m,\u001b[0m \u001b[1;33m**\u001b[0m\u001b[0msend_kwargs\u001b[0m\u001b[1;33m)\u001b[0m\u001b[1;33m\u001b[0m\u001b[0m\n\u001b[0m\u001b[0;32m    358\u001b[0m \u001b[1;33m\u001b[0m\u001b[0m\n\u001b[0;32m    359\u001b[0m         \u001b[1;32mreturn\u001b[0m \u001b[0mresp\u001b[0m\u001b[1;33m\u001b[0m\u001b[0m\n",
        "\u001b[1;32mC:\\Python33\\lib\\site-packages\\requests\\sessions.py\u001b[0m in \u001b[0;36msend\u001b[1;34m(self, request, **kwargs)\u001b[0m\n\u001b[0;32m    458\u001b[0m         \u001b[0mstart\u001b[0m \u001b[1;33m=\u001b[0m \u001b[0mdatetime\u001b[0m\u001b[1;33m.\u001b[0m\u001b[0mutcnow\u001b[0m\u001b[1;33m(\u001b[0m\u001b[1;33m)\u001b[0m\u001b[1;33m\u001b[0m\u001b[0m\n\u001b[0;32m    459\u001b[0m         \u001b[1;31m# Send the request\u001b[0m\u001b[1;33m\u001b[0m\u001b[1;33m\u001b[0m\u001b[0m\n\u001b[1;32m--> 460\u001b[1;33m         \u001b[0mr\u001b[0m \u001b[1;33m=\u001b[0m \u001b[0madapter\u001b[0m\u001b[1;33m.\u001b[0m\u001b[0msend\u001b[0m\u001b[1;33m(\u001b[0m\u001b[0mrequest\u001b[0m\u001b[1;33m,\u001b[0m \u001b[1;33m**\u001b[0m\u001b[0mkwargs\u001b[0m\u001b[1;33m)\u001b[0m\u001b[1;33m\u001b[0m\u001b[0m\n\u001b[0m\u001b[0;32m    461\u001b[0m         \u001b[1;31m# Total elapsed time of the request (approximately)\u001b[0m\u001b[1;33m\u001b[0m\u001b[1;33m\u001b[0m\u001b[0m\n\u001b[0;32m    462\u001b[0m         \u001b[0mr\u001b[0m\u001b[1;33m.\u001b[0m\u001b[0melapsed\u001b[0m \u001b[1;33m=\u001b[0m \u001b[0mdatetime\u001b[0m\u001b[1;33m.\u001b[0m\u001b[0mutcnow\u001b[0m\u001b[1;33m(\u001b[0m\u001b[1;33m)\u001b[0m \u001b[1;33m-\u001b[0m \u001b[0mstart\u001b[0m\u001b[1;33m\u001b[0m\u001b[0m\n",
        "\u001b[1;32mC:\\Python33\\lib\\site-packages\\requests\\adapters.py\u001b[0m in \u001b[0;36msend\u001b[1;34m(self, request, stream, timeout, verify, cert, proxies)\u001b[0m\n\u001b[0;32m    352\u001b[0m \u001b[1;33m\u001b[0m\u001b[0m\n\u001b[0;32m    353\u001b[0m         \u001b[1;32mexcept\u001b[0m \u001b[0mMaxRetryError\u001b[0m \u001b[1;32mas\u001b[0m \u001b[0me\u001b[0m\u001b[1;33m:\u001b[0m\u001b[1;33m\u001b[0m\u001b[0m\n\u001b[1;32m--> 354\u001b[1;33m             \u001b[1;32mraise\u001b[0m \u001b[0mConnectionError\u001b[0m\u001b[1;33m(\u001b[0m\u001b[0me\u001b[0m\u001b[1;33m)\u001b[0m\u001b[1;33m\u001b[0m\u001b[0m\n\u001b[0m\u001b[0;32m    355\u001b[0m \u001b[1;33m\u001b[0m\u001b[0m\n\u001b[0;32m    356\u001b[0m         \u001b[1;32mexcept\u001b[0m \u001b[1;33m(\u001b[0m\u001b[0m_SSLError\u001b[0m\u001b[1;33m,\u001b[0m \u001b[0m_HTTPError\u001b[0m\u001b[1;33m)\u001b[0m \u001b[1;32mas\u001b[0m \u001b[0me\u001b[0m\u001b[1;33m:\u001b[0m\u001b[1;33m\u001b[0m\u001b[0m\n",
        "\u001b[1;31mConnectionError\u001b[0m: HTTPSConnectionPool(host='thmprod.themis.unimelb.edu.au', port=443): Max retries exceeded with url: / (Caused by <class 'ConnectionResetError'>: [WinError 10054] An existing connection was forcibly closed by the remote host)"
       ]
      }
     ]
    },
    {
     "cell_type": "code",
     "collapsed": false,
     "input": [
      "{'usernameField':,\n",
      " '\n",
      "/OA_HTML/OA.jsp?page=/oracle/apps/fnd/sso/login/webui/MainLoginPG&_ri=0&_ti=1772077734&language_code=US&oapc=11&oas=YK4DcEeH-Xi14p9x8pfpaQ.."
     ],
     "language": "python",
     "metadata": {},
     "outputs": []
    },
    {
     "cell_type": "code",
     "collapsed": false,
     "input": [
      "import urllib\n",
      "import platform\n",
      "if \"windows\" in platform.platform().lower():\n",
      "    if 'my_wacky_url' or 'my_other_wacky_url' in url.lower():\n",
      "        import ssl\n",
      "        ssl_context = urllib.request.HTTPSHandler(\n",
      "                                              context=ssl.SSLContext(ssl.PROTOCOL_TLSv1))\n",
      "        opener = urllib.request.build_opener(ssl_context)\n",
      "        urllib.request.install_opener(opener)"
     ],
     "language": "python",
     "metadata": {},
     "outputs": [],
     "prompt_number": 23
    },
    {
     "cell_type": "code",
     "collapsed": false,
     "input": [
      "a = urllib.request.urlopen('https://thmprod.themis.unimelb.edu.au/OA_HTML/AppsLocalLogin.jsp')\n",
      "a.getheaders()"
     ],
     "language": "python",
     "metadata": {},
     "outputs": [],
     "prompt_number": 32
    },
    {
     "cell_type": "code",
     "collapsed": false,
     "input": [
      "data = urllib.parse.urlencode([('usernameField','vlyashov'),\n",
      "        ('passwordField','!'),\n",
      "        ('_FORM', 'DefaultFormName8U1i3t5x')])\n",
      "a = urllib.request.urlopen(url='https://thmprod.themis.unimelb.edu.au/OA_HTML/OA.jsp?page=/oracle/apps/fnd/sso/login/webui/MainLoginPG&_ti=1922461176&oapc=2&oas=QaoGs-djo-U3seOQjIeMSQ..', data=data.encode('utf8'))\n"
     ],
     "language": "python",
     "metadata": {},
     "outputs": [],
     "prompt_number": 63
    },
    {
     "cell_type": "code",
     "collapsed": false,
     "input": [
      "a.readall()"
     ],
     "language": "python",
     "metadata": {},
     "outputs": [
      {
       "metadata": {},
       "output_type": "pyout",
       "prompt_number": 62,
       "text": [
        "b'\\n\\n\\n\\n\\n\\r\\n\\r\\n\\r\\n\\r\\n\\r\\n\\r\\n\\r\\n\\r\\n\\r\\n\\r\\n\\r\\n<!DOCTYPE HTML PUBLIC \"-//W3C//DTD HTML 4.01 Transitional//EN\"><html dir=\"ltr\" lang=\"en-US-ORACLE9I\"><head><title>Error</title><meta name=\"generator\" content=\"Oracle UIX\"><link rel=\"stylesheet\" charset=\"UTF-8\" type=\"text/css\" href=\"/OA_HTML/cabo/styles/cache/swanEXTN-custom-2_3_6_9-en.css\"><script>var _UixWindowOpenError=\\'A popup window blocker has been detected in your browser. Popup blockers interfere with the operation of this application. Please disable your popup blocker or allow popups from this site.\\'</script><script src=\"/OA_HTML/cabo/jsLibs/Common2_3_6_9.js\"></script><script>_defaultTZ()</script><script language=\"javascript\" src=\"/OA_HTML/cabo/oajsLibs/oafcoreR121.js\"></script><script language=\"javascript\" src=\"/OA_HTML/cabo/oajsLibs/oafb.js\"></script><script language=\"javascript\" src=\"/OA_HTML/cabo/oajsLibs/OAFSlideoutMenu.js\"></script></head><body class=\"xk\" onload=\"_checkLoad(event)\" onunload=\"_checkUnload(event)\"><form id=\"DefaultFormName\" name=\"DefaultFormName\" style=\"margin:0px\" method=\"POST\" action=\"/OA_HTML/OA.jsp?_rc=FNDDIALOGPAGE&_ri=0&_ti=942592594&retainAM=Y&addBreadCrumb=S&OAMC=G&oapc=2&oas=f_cFVL-65nSRgMwbcdW_FA..\"><input id=\"_AM_TX_ID_FIELD\" type=\"hidden\" value=\"1TzqXIqHw\" name=\"_AM_TX_ID_FIELD\"><input id=\"_FORM\" type=\"hidden\" value=\"DefaultFormNameJG5GlqL7\" name=\"_FORM\"><span id=\"lovHFCId\"></span><span id=\"FNDDIALOGPAGE\"><table cellpadding=\"0\" cellspacing=\"0\" border=\"0\" width=\"100%\" class=\"x6t\" style=\"background-image:url(/OA_HTML/cabo/images/swan/headerBg.jpg);\"><tr><td><img src=\"/OA_HTML/cabo/images/swan/t.gif\" width=\"10\" height=\"10\"></td></tr><tr><td><table cellpadding=\"0\" cellspacing=\"0\" border=\"0\" width=\"100%\" style=\"padding:0px 10px;\"><tr><td nowrap valign=\"top\"><img src=\"/OA_MEDIA/FNDSSCORP.gif\" title=\"Oracle Logo\" width=\"155\" height=\"20\" border=\"0\"></td><td></td><td></td><td></td></tr><tr><td></td><td colspan=\"2\" align=\"right\" valign=\"bottom\" style=\"padding-bottom:8px\"><table class=\"x6v\" cellpadding=\"0\" cellspacing=\"0\" border=\"0\"><tr><td valign=\"bottom\"><a class=\"x14\" href=\"OA.jsp?_rc=FNDPORTALRELEASEAM&_ri=0&retainAM=N&_ti=942592594&oapc=2&menu=Y&oas=w4oHcDO6CHIgQ_akROvSiA..\">Home</a></td></tr></table></td></tr></table></td></tr></table><table cellpadding=\"0\" cellspacing=\"0\" border=\"0\" width=\"100%\"><tr><td width=\"100%\"><table class=\"x72\" style=\"background-image:url(/OA_HTML/cabo/images/swan/navBarUnderTopTabsBg.gif);\" cellpadding=\"0\" cellspacing=\"0\" border=\"0\" width=\"100%\"><tr><td></td></tr></table></td></tr></table><div class=\"x6s\" style=\"height:auto\"><table id=\"FwkErrorBeanId\" width=\"100%\" border=\"0\" cellspacing=\"0\" cellpadding=\"0\"><tr><td></td></tr></table><div></div><div></div><div class=\"x7w\"><div><div class=\"x69\"><table cellpadding=\"0\" cellspacing=\"0\" border=\"0\" width=\"100%\"><tr valign=\"bottom\"><td><img src=\"/OA_HTML/cabo/images/swan/errorl.gif\" width=\"18\" height=\"18\" border=\"0\" alt=\"\"></td><td><img src=\"/OA_HTML/cabo/images/swan/t.gif\" width=\"5\" height=\"0\"></td><td width=\"100%\"><table cellpadding=\"0\" cellspacing=\"0\" border=\"0\" width=\"100%\"><tr><td width=\"100%\"><h1 class=\"x5x\">Error</h1></td></tr></table></td></tr></table></div><div class=\"x78\"><table width=\"100%\" border=\"0\" cellspacing=\"0\" cellpadding=\"0\"><tr valign=\"top\"><td></td><td align=\"right\" nowrap></td></tr></table><noscript>JavaScript enabled browser required.</noscript><div></div><div></div><table border=\"0\" cellspacing=\"0\" cellpadding=\"0\"><tr><td align=\"left\" width=\"580\"><span class=\"x1\">You are trying to access a page that is no longer active.<br>- The referring page may have come from a previous session. Please select Home to proceed.</span></td></tr></table><div></div><input id=\"_fwkAbsolutePageName\" type=\"hidden\" value=\"/oracle/apps/fnd/framework/webui/OADialogPage:::hRQb_RTP\" name=\"_fwkAbsolutePageName\"></div></div></div><div></div><div class=\"x7w\"><div><div><img src=\"/OA_HTML/cabo/images/swan/t.gif\" width=\"1\" height=\"9\"></div><div><img src=\"/OA_HTML/cabo/images/swan/t.gif\" width=\"1\" height=\"10\"></div></div></div><div></div></div><table cellpadding=\"0\" cellspacing=\"0\" border=\"0\" width=\"100%\" class=\"x6z\" style=\"background-image:url(/OA_HTML/cabo/images/swan/footerBg.gif);\"><tr><td nowrap align=\"center\"><table cellpadding=\"0\" cellspacing=\"0\" border=\"0\" align=\"center\"><tr><td align=\"center\"><a href=\"OA.jsp?_rc=FNDPORTALRELEASEAM&_ri=0&retainAM=N&_ti=942592594&oapc=2&menu=Y&oas=w4oHcDO6CHIgQ_akROvSiA..\" class=\"x14\">Home</a></td></tr></table></td></tr><tr><td><table cellpadding=\"2\" cellspacing=\"2\" border=\"0\" width=\"100%\"><tr><td align=\"left\" nowrap class=\"x13\"></td><td><img src=\"/OA_HTML/cabo/images/swan/t.gif\" width=\"10\" height=\"10\"></td><td align=\"left\" nowrap class=\"x12\"><a title=\"Privacy\" href=\"http://www.unimelb.edu.au/disclaimer/privacy.html\" target=\"_blank\">Privacy</a></td><td align=\"right\" nowrap width=\"100%\" class=\"x11\"><span id=\"N19\">Copyright (c) 2006, Oracle. All rights reserved.</span></td></tr></table></td></tr></table></span><input id=\"FORM_MAC_LIST\" type=\"hidden\" value=\"_AM_TX_ID_FIELD^_fwkAbsolutePageName^serverValidate^_FORMEVENT^_FORM^evtSrcRowId^evtSrcRowIdx***@@@FORM_MAC_LIST***@@@FORM_MAC_LISTfE73X83UhaPAtRI9XNgqNg..\" name=\"FORM_MAC_LIST\"><input type=\"hidden\" name=\"_FORMEVENT\"><input type=\"hidden\" name=\"serverValidate\"><input type=\"hidden\" name=\"evtSrcRowIdx\"><input type=\"hidden\" name=\"evtSrcRowId\"><script>var _resetDefaultFormNameNames=[\"_FORMEVENT\",\"serverValidate\",\"evtSrcRowIdx\",\"evtSrcRowId\"];</script><script>function _DefaultFormNameValidater(form){return true;}</script><script>_submitFormCheck();</script></form><iframe name=formsLauncher src=\"https://thmprod.themis.unimelb.edu.au:443/OA_HTML/blank.html\" title=\"Forms Launcher\" height=5px width=5px scrolling=no frameborder=no></iframe><script>document.body.style.marginLeft=\"0px\";document.body.style.marginRight=\"0px\";document.body.style.marginTop=\"0px\";</script></body><!-- Created by Oracle UIX , Accessibility:disabled, laf:swanEXTN (swanEXTN) --></html>\\r\\n'"
       ]
      }
     ],
     "prompt_number": 62
    },
    {
     "cell_type": "code",
     "collapsed": false,
     "input": [
      "urllib.parse.urlencode({'hi':1})"
     ],
     "language": "python",
     "metadata": {},
     "outputs": [
      {
       "metadata": {},
       "output_type": "pyout",
       "prompt_number": 35,
       "text": [
        "'hi=1'"
       ]
      }
     ],
     "prompt_number": 35
    },
    {
     "cell_type": "code",
     "collapsed": false,
     "input": [],
     "language": "python",
     "metadata": {},
     "outputs": []
    }
   ],
   "metadata": {}
  }
 ]
}